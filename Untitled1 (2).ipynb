{
  "nbformat": 4,
  "nbformat_minor": 0,
  "metadata": {
    "colab": {
      "provenance": []
    },
    "kernelspec": {
      "name": "python3",
      "display_name": "Python 3"
    },
    "language_info": {
      "name": "python"
    }
  },
  "cells": [
    {
      "cell_type": "markdown",
      "source": [
        "# MACHINE LEARNING\n",
        "## Taller 1\n",
        "### Jessica Lorena Rojas\n"
      ],
      "metadata": {
        "id": "0yjA9SjTAXPv"
      }
    },
    {
      "cell_type": "code",
      "execution_count": 1,
      "metadata": {
        "id": "4o6t2Hq83PVW"
      },
      "outputs": [],
      "source": [
        "x = 6"
      ]
    },
    {
      "cell_type": "code",
      "source": [
        "y = 8"
      ],
      "metadata": {
        "id": "_QOT8xHo3aDO"
      },
      "execution_count": 2,
      "outputs": []
    },
    {
      "cell_type": "code",
      "source": [
        "w = 2"
      ],
      "metadata": {
        "id": "mlEBbyu53gtc"
      },
      "execution_count": 26,
      "outputs": []
    },
    {
      "cell_type": "code",
      "source": [
        "def sum_division(x:int, y:int, w:int):\n",
        "  if type(x) == int and type(y) == int and type(w) == int:\n",
        "    suma = x + y\n",
        "    if w==0:\n",
        "      print (f\"el numero {w} no puede ser 0\")\n",
        "    else:\n",
        "      division = suma / w\n",
        "      print(division)\n",
        "  else:\n",
        "    print(f\"los datos ingresados deben ser enteros\")"
      ],
      "metadata": {
        "id": "5le4Ns4E9DbP"
      },
      "execution_count": 23,
      "outputs": []
    },
    {
      "cell_type": "code",
      "source": [
        "sum_division(x,y,w)"
      ],
      "metadata": {
        "colab": {
          "base_uri": "https://localhost:8080/"
        },
        "id": "lkgJVUzw_KUF",
        "outputId": "1705a7f8-63cc-424f-8b33-ef5d19f496ef"
      },
      "execution_count": 27,
      "outputs": [
        {
          "output_type": "stream",
          "name": "stdout",
          "text": [
            "7.0\n"
          ]
        }
      ]
    }
  ]
}